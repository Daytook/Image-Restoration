{
 "cells": [
  {
   "metadata": {
    "ExecuteTime": {
     "end_time": "2025-08-11T14:56:41.359705Z",
     "start_time": "2025-08-11T14:56:32.336722Z"
    }
   },
   "cell_type": "code",
   "source": [
    "from selenium import webdriver\n",
    "from selenium.webdriver.chrome.options import Options\n",
    "from bs4 import BeautifulSoup\n",
    "from datetime import datetime\n",
    "import time\n",
    "import re\n",
    "\n",
    "# === НАСТРОЙКИ ===\n",
    "KEYWORDS = ['трамп', 'канад', 'германи', 'сша', 'австрали', 'япони', 'великобритани', 'китай', 'росси']\n",
    "DAYS_BACK = 2\n",
    "URL = 'https://www.rbc.ru/economics/'\n",
    "\n",
    "# === ЗАПУСК SELENIUM ===\n",
    "chrome_options = Options()\n",
    "chrome_options.add_argument(\"--headless\")\n",
    "chrome_options.add_argument(\"--no-sandbox\")\n",
    "chrome_options.add_argument(\"--disable-dev-shm-usage\")\n",
    "driver = webdriver.Chrome(options=chrome_options)\n",
    "\n",
    "print(\"[INFO] Загружаем страницу...\")\n",
    "driver.get(URL)\n",
    "time.sleep(5)  # Лучше заменить на явные ожидания для продакшена\n",
    "\n",
    "html = driver.page_source\n",
    "driver.quit()\n",
    "\n",
    "# === ПАРСИНГ И ОДНОВРЕМЕННАЯ ФИЛЬТРАЦИЯ ===\n",
    "soup = BeautifulSoup(html, 'html.parser')\n",
    "items = soup.find_all('div', class_='item')\n",
    "print(f\"[INFO] Найдено карточек на странице: {len(items)}\")\n",
    "\n",
    "now = datetime.now()\n",
    "filtered_articles = []\n",
    "\n",
    "for item in items:\n",
    "    title_tag = item.find('span', class_='item__title')\n",
    "    link_tag = item.find('a', class_='item__link')\n",
    "\n",
    "    if not title_tag or not link_tag:\n",
    "        continue\n",
    "\n",
    "    title = ''.join(title_tag.stripped_strings)\n",
    "    link = link_tag['href']\n",
    "\n",
    "    # Извлекаем дату из URL\n",
    "    match = re.search(r'/(\\d{2})/(\\d{2})/(\\d{4})/', link)\n",
    "    if not match:\n",
    "        continue\n",
    "    day, month, year = map(int, match.groups())\n",
    "    pub_date = datetime(year, month, day)\n",
    "\n",
    "    # Фильтрация по дате — пропускаем новости старше DAYS_BACK\n",
    "    if (now - pub_date).days > DAYS_BACK:\n",
    "        continue\n",
    "\n",
    "    # Фильтрация по ключевым словам — пропускаем, если не содержат ни одного ключевого слова\n",
    "    title_lower = title.lower()\n",
    "    if not any(kw in title_lower for kw in KEYWORDS):\n",
    "        continue\n",
    "\n",
    "    filtered_articles.append({\n",
    "        'title': title,\n",
    "        'link': link,\n",
    "        'date': pub_date\n",
    "    })\n",
    "\n",
    "# === ВЫВОД РЕЗУЛЬТАТОВ ===\n",
    "if not filtered_articles:\n",
    "    print(\"\\n❌ Нет подходящих новостей.\")\n",
    "else:\n",
    "    print(f\"\\n✅ Найдено {len(filtered_articles)} новостей по фильтру:\\n\")\n",
    "    for i, a in enumerate(filtered_articles, 1):\n",
    "        print(f\"[{i}] [{a['date'].strftime('%Y-%m-%d')}] {a['title']}\\n     🔗 {a['link']}\\n\")\n"
   ],
   "id": "48dd9f42bfeead39",
   "outputs": [
    {
     "name": "stdout",
     "output_type": "stream",
     "text": [
      "[INFO] Загружаем страницу...\n",
      "[INFO] Найдено карточек на странице: 20\n",
      "\n",
      "✅ Найдено 3 новостей по фильтру:\n",
      "\n",
      "[1] [2025-08-10] Поставки лекарств из США в Россию за год выросли почти в 7 раз\n",
      "     🔗 https://www.rbc.ru/economics/10/08/2025/6898bc319a7947e41c8a4b05\n",
      "\n",
      "[2] [2025-08-10] FT узнала требование Китая в торговых переговорах с США\n",
      "     🔗 https://www.rbc.ru/economics/10/08/2025/68982c5e9a79477e692f4854\n",
      "\n",
      "[3] [2025-08-09] Бразилия испугалась стать новой мишенью Трампа из-за российского топлива\n",
      "     🔗 https://www.rbc.ru/economics/09/08/2025/689743b69a794797f8463b44\n",
      "\n"
     ]
    }
   ],
   "execution_count": 50
  },
  {
   "metadata": {
    "ExecuteTime": {
     "end_time": "2025-08-11T14:54:58.220893Z",
     "start_time": "2025-08-11T14:54:55.364385Z"
    }
   },
   "cell_type": "code",
   "source": [
    "import re\n",
    "import json\n",
    "from selenium import webdriver\n",
    "from selenium.webdriver.chrome.options import Options\n",
    "from datetime import datetime, timedelta\n",
    "from IPython.display import display, Markdown\n",
    "\n",
    "KEYWORDS = ['трамп', 'trump', 'дональд']\n",
    "DAYS_BACK = 2\n",
    "URL = 'https://iz.ru/news'\n",
    "MAX_NEWS = 50\n",
    "BASE_URL = 'https://iz.ru'\n",
    "\n",
    "def extract_json_from_html(html):\n",
    "    start_pattern = r'window\\.recommendationBlockList\\s*=\\s*{'\n",
    "    start_match = re.search(start_pattern, html)\n",
    "    if not start_match:\n",
    "        return None\n",
    "\n",
    "    start_index = start_match.end() - 1  # позиция первой {\n",
    "\n",
    "    braces = 0\n",
    "    end_index = start_index\n",
    "    for i, ch in enumerate(html[start_index:], start=start_index):\n",
    "        if ch == '{':\n",
    "            braces += 1\n",
    "        elif ch == '}':\n",
    "            braces -= 1\n",
    "            if braces == 0:\n",
    "                end_index = i\n",
    "                break\n",
    "\n",
    "    json_text = html[start_index:end_index+1]\n",
    "    return json_text\n",
    "\n",
    "def parse_articles(json_data):\n",
    "    articles = []\n",
    "    for key in ['even', 'odd']:\n",
    "        for item in json_data.get(key, []):\n",
    "            path = item.get('path', '')\n",
    "            if path.startswith('http://') or path.startswith('https://'):\n",
    "                full_link = path\n",
    "            else:\n",
    "                full_link = BASE_URL + path if path.startswith('/') else BASE_URL + '/' + path\n",
    "            articles.append({\n",
    "                'title': item.get('title', ''),\n",
    "                'link': full_link,\n",
    "                'date': None,\n",
    "                'reference': item.get('reference', '')\n",
    "            })\n",
    "    return articles\n",
    "\n",
    "def main():\n",
    "    chrome_options = Options()\n",
    "    chrome_options.add_argument('--headless')\n",
    "    chrome_options.add_argument('--no-sandbox')\n",
    "    chrome_options.add_argument('--disable-dev-shm-usage')\n",
    "\n",
    "    driver = webdriver.Chrome(options=chrome_options)\n",
    "    driver.get(URL)\n",
    "\n",
    "    html = driver.page_source\n",
    "    driver.quit()\n",
    "\n",
    "    json_text = extract_json_from_html(html)\n",
    "    if not json_text:\n",
    "        print(\"❌ Не удалось найти данные новостей в HTML\")\n",
    "        return\n",
    "\n",
    "    data = json.loads(json_text)\n",
    "    articles = parse_articles(data)\n",
    "\n",
    "    filtered = []\n",
    "    now = datetime.now()\n",
    "    cutoff = now - timedelta(days=DAYS_BACK)\n",
    "\n",
    "    for a in articles:\n",
    "        title_lower = a['title'].lower()\n",
    "        if not any(kw in title_lower for kw in KEYWORDS):\n",
    "            continue\n",
    "        filtered.append(a)\n",
    "        if len(filtered) >= MAX_NEWS:\n",
    "            break\n",
    "\n",
    "    if not filtered:\n",
    "        print(\"❌ Нет подходящих новостей.\")\n",
    "        return\n",
    "\n",
    "    print(f\"✅ Найдено {len(filtered)} новостей по фильтру:\\n\")\n",
    "    for i, a in enumerate(filtered, 1):\n",
    "        # Вывод кликаемой ссылки через Markdown\n",
    "        display(Markdown(f\"**[{i}] {a['title']}**  \\n🔗 [{a['link']}]({a['link']})\\n\"))\n",
    "\n",
    "if __name__ == '__main__':\n",
    "    main()\n"
   ],
   "id": "1bc429103ff66a7",
   "outputs": [
    {
     "name": "stdout",
     "output_type": "stream",
     "text": [
      "✅ Найдено 4 новостей по фильтру:\n",
      "\n"
     ]
    },
    {
     "data": {
      "text/plain": [
       "<IPython.core.display.Markdown object>"
      ],
      "text/markdown": "**[1] Дональд Трамп заявил о сдаче когнитивного теста на отлично**  \n🔗 [https://iz.ru/1935030/2025-08-11/donald-tramp-zaiavil-o-sdache-kognitivnogo-testa-na-otlichno](https://iz.ru/1935030/2025-08-11/donald-tramp-zaiavil-o-sdache-kognitivnogo-testa-na-otlichno)\n"
     },
     "metadata": {},
     "output_type": "display_data"
    },
    {
     "data": {
      "text/plain": [
       "<IPython.core.display.Markdown object>"
      ],
      "text/markdown": "**[2] США и Европа готовятся к встрече Трампа с Путиным на Аляске. Что пишут СМИ**  \n🔗 [https://iz.ru/1934859/2025-08-11/ssha-i-evropa-gotoviatsia-k-vstreche-trampa-s-putinym-na-aliaske-chto-pishut-smi](https://iz.ru/1934859/2025-08-11/ssha-i-evropa-gotoviatsia-k-vstreche-trampa-s-putinym-na-aliaske-chto-pishut-smi)\n"
     },
     "metadata": {},
     "output_type": "display_data"
    },
    {
     "data": {
      "text/plain": [
       "<IPython.core.display.Markdown object>"
      ],
      "text/markdown": "**[3] Дональд Трамп заявил о сдаче когнитивного теста на отлично**  \n🔗 [https://iz.ru/1935030/2025-08-11/donald-tramp-zaiavil-o-sdache-kognitivnogo-testa-na-otlichno](https://iz.ru/1935030/2025-08-11/donald-tramp-zaiavil-o-sdache-kognitivnogo-testa-na-otlichno)\n"
     },
     "metadata": {},
     "output_type": "display_data"
    },
    {
     "data": {
      "text/plain": [
       "<IPython.core.display.Markdown object>"
      ],
      "text/markdown": "**[4] США и Европа готовятся к встрече Трампа с Путиным на Аляске. Что пишут СМИ**  \n🔗 [https://iz.ru/1934859/2025-08-11/ssha-i-evropa-gotoviatsia-k-vstreche-trampa-s-putinym-na-aliaske-chto-pishut-smi](https://iz.ru/1934859/2025-08-11/ssha-i-evropa-gotoviatsia-k-vstreche-trampa-s-putinym-na-aliaske-chto-pishut-smi)\n"
     },
     "metadata": {},
     "output_type": "display_data"
    }
   ],
   "execution_count": 49
  },
  {
   "metadata": {
    "ExecuteTime": {
     "end_time": "2025-08-11T14:58:32.133303Z",
     "start_time": "2025-08-11T14:58:16.612089Z"
    }
   },
   "cell_type": "code",
   "source": [
    "import re\n",
    "import json\n",
    "from selenium import webdriver\n",
    "from selenium.webdriver.chrome.options import Options\n",
    "from bs4 import BeautifulSoup\n",
    "from datetime import datetime, timedelta\n",
    "from IPython.display import display, Markdown\n",
    "import time\n",
    "\n",
    "KEYWORDS = ['трамп', 'trump', 'дональд', 'канад', 'германи', 'сша', 'австрали', 'япони', 'великобритани', 'китай', 'росси']\n",
    "DAYS_BACK = 2\n",
    "MAX_NEWS = 50\n",
    "\n",
    "def parse_rbc(html):\n",
    "    soup = BeautifulSoup(html, 'html.parser')\n",
    "    items = soup.find_all('div', class_='item')\n",
    "    now = datetime.now()\n",
    "    filtered_articles = []\n",
    "\n",
    "    for item in items:\n",
    "        title_tag = item.find('span', class_='item__title')\n",
    "        link_tag = item.find('a', class_='item__link')\n",
    "\n",
    "        if not title_tag or not link_tag:\n",
    "            continue\n",
    "\n",
    "        title = ''.join(title_tag.stripped_strings)\n",
    "        link = link_tag['href']\n",
    "\n",
    "        match = re.search(r'/(\\d{2})/(\\d{2})/(\\d{4})/', link)\n",
    "        if not match:\n",
    "            continue\n",
    "        day, month, year = map(int, match.groups())\n",
    "        pub_date = datetime(year, month, day)\n",
    "\n",
    "        if (now - pub_date).days > DAYS_BACK:\n",
    "            continue\n",
    "\n",
    "        title_lower = title.lower()\n",
    "        if not any(kw in title_lower for kw in KEYWORDS):\n",
    "            continue\n",
    "\n",
    "        filtered_articles.append({\n",
    "            'title': title,\n",
    "            'link': link,\n",
    "            'date': pub_date\n",
    "        })\n",
    "\n",
    "    return filtered_articles\n",
    "\n",
    "def extract_json_from_html(html):\n",
    "    start_pattern = r'window\\.recommendationBlockList\\s*=\\s*{'\n",
    "    start_match = re.search(start_pattern, html)\n",
    "    if not start_match:\n",
    "        return None\n",
    "\n",
    "    start_index = start_match.end() - 1\n",
    "    braces = 0\n",
    "    end_index = start_index\n",
    "    for i, ch in enumerate(html[start_index:], start=start_index):\n",
    "        if ch == '{':\n",
    "            braces += 1\n",
    "        elif ch == '}':\n",
    "            braces -= 1\n",
    "            if braces == 0:\n",
    "                end_index = i\n",
    "                break\n",
    "\n",
    "    return html[start_index:end_index+1]\n",
    "\n",
    "def parse_iz(json_data):\n",
    "    BASE_URL = 'https://iz.ru'\n",
    "    articles = []\n",
    "    for key in ['even', 'odd']:\n",
    "        for item in json_data.get(key, []):\n",
    "            path = item.get('path', '')\n",
    "            if path.startswith('http://') or path.startswith('https://'):\n",
    "                full_link = path\n",
    "            else:\n",
    "                full_link = BASE_URL + path if path.startswith('/') else BASE_URL + '/' + path\n",
    "            articles.append({\n",
    "                'title': item.get('title', ''),\n",
    "                'link': full_link,\n",
    "                'date': None,\n",
    "            })\n",
    "    return articles\n",
    "\n",
    "def fetch_with_selenium(url):\n",
    "    chrome_options = Options()\n",
    "    chrome_options.add_argument('--headless')\n",
    "    chrome_options.add_argument('--no-sandbox')\n",
    "    chrome_options.add_argument('--disable-dev-shm-usage')\n",
    "    driver = webdriver.Chrome(options=chrome_options)\n",
    "    driver.get(url)\n",
    "    time.sleep(5)  # можно заменить на явные ожидания\n",
    "    html = driver.page_source\n",
    "    driver.quit()\n",
    "    return html\n",
    "\n",
    "def main():\n",
    "    # --- RBC ---\n",
    "    print(\"[INFO] Загружаем RBC...\")\n",
    "    rbc_html = fetch_with_selenium('https://www.rbc.ru/economics/')\n",
    "    rbc_articles = parse_rbc(rbc_html)\n",
    "\n",
    "    # --- Iz.ru ---\n",
    "    print(\"[INFO] Загружаем Iz.ru...\")\n",
    "    iz_html = fetch_with_selenium('https://iz.ru/news')\n",
    "    json_text = extract_json_from_html(iz_html)\n",
    "    if not json_text:\n",
    "        print(\"❌ Не удалось найти новости Iz.ru\")\n",
    "        iz_articles = []\n",
    "    else:\n",
    "        data = json.loads(json_text)\n",
    "        iz_articles = parse_iz(data)\n",
    "\n",
    "    # Объединяем статьи\n",
    "    all_articles = rbc_articles + iz_articles\n",
    "\n",
    "    # Фильтруем по ключевым словам и дате для Iz.ru (даты нет, пропускаем фильтр по времени)\n",
    "    now = datetime.now()\n",
    "    cutoff = now - timedelta(days=DAYS_BACK)\n",
    "\n",
    "    filtered = []\n",
    "    for a in all_articles:\n",
    "        title_lower = a['title'].lower()\n",
    "        if not any(kw in title_lower for kw in KEYWORDS):\n",
    "            continue\n",
    "        # Для RBC проверка даты уже сделана\n",
    "        # Для Iz.ru даты нет, считаем допустимыми все\n",
    "        filtered.append(a)\n",
    "        if len(filtered) >= MAX_NEWS:\n",
    "            break\n",
    "\n",
    "    if not filtered:\n",
    "        print(\"❌ Нет подходящих новостей.\")\n",
    "        return\n",
    "\n",
    "    print(f\"✅ Найдено {len(filtered)} новостей по фильтру:\\n\")\n",
    "    for i, a in enumerate(filtered, 1):\n",
    "        # В Jupyter делаем кликабельный вывод\n",
    "        display(Markdown(f\"**[{i}] {a['title']}**  \\n🔗 [{a['link']}]({a['link']})\\n\"))\n",
    "\n",
    "if __name__ == '__main__':\n",
    "    main()\n"
   ],
   "id": "20bafbd1bc48320a",
   "outputs": [
    {
     "name": "stdout",
     "output_type": "stream",
     "text": [
      "[INFO] Загружаем RBC...\n",
      "[INFO] Загружаем Iz.ru...\n",
      "✅ Найдено 13 новостей по фильтру:\n",
      "\n"
     ]
    },
    {
     "data": {
      "text/plain": [
       "<IPython.core.display.Markdown object>"
      ],
      "text/markdown": "**[1] Поставки лекарств из США в Россию за год выросли почти в 7 раз**  \n🔗 [https://www.rbc.ru/economics/10/08/2025/6898bc319a7947e41c8a4b05](https://www.rbc.ru/economics/10/08/2025/6898bc319a7947e41c8a4b05)\n"
     },
     "metadata": {},
     "output_type": "display_data"
    },
    {
     "data": {
      "text/plain": [
       "<IPython.core.display.Markdown object>"
      ],
      "text/markdown": "**[2] FT узнала требование Китая в торговых переговорах с США**  \n🔗 [https://www.rbc.ru/economics/10/08/2025/68982c5e9a79477e692f4854](https://www.rbc.ru/economics/10/08/2025/68982c5e9a79477e692f4854)\n"
     },
     "metadata": {},
     "output_type": "display_data"
    },
    {
     "data": {
      "text/plain": [
       "<IPython.core.display.Markdown object>"
      ],
      "text/markdown": "**[3] Бразилия испугалась стать новой мишенью Трампа из-за российского топлива**  \n🔗 [https://www.rbc.ru/economics/09/08/2025/689743b69a794797f8463b44](https://www.rbc.ru/economics/09/08/2025/689743b69a794797f8463b44)\n"
     },
     "metadata": {},
     "output_type": "display_data"
    },
    {
     "data": {
      "text/plain": [
       "<IPython.core.display.Markdown object>"
      ],
      "text/markdown": "**[4] Дональд Трамп заявил о сдаче когнитивного теста на отлично**  \n🔗 [https://iz.ru/1935030/2025-08-11/donald-tramp-zaiavil-o-sdache-kognitivnogo-testa-na-otlichno](https://iz.ru/1935030/2025-08-11/donald-tramp-zaiavil-o-sdache-kognitivnogo-testa-na-otlichno)\n"
     },
     "metadata": {},
     "output_type": "display_data"
    },
    {
     "data": {
      "text/plain": [
       "<IPython.core.display.Markdown object>"
      ],
      "text/markdown": "**[5] США и Европа готовятся к встрече Трампа с Путиным на Аляске. Что пишут СМИ**  \n🔗 [https://iz.ru/1934859/2025-08-11/ssha-i-evropa-gotoviatsia-k-vstreche-trampa-s-putinym-na-aliaske-chto-pishut-smi](https://iz.ru/1934859/2025-08-11/ssha-i-evropa-gotoviatsia-k-vstreche-trampa-s-putinym-na-aliaske-chto-pishut-smi)\n"
     },
     "metadata": {},
     "output_type": "display_data"
    },
    {
     "data": {
      "text/plain": [
       "<IPython.core.display.Markdown object>"
      ],
      "text/markdown": "**[6] Нарезка округов и «бюллетени-бабочки». Как в США манипулируют выборами**  \n🔗 [https://iz.ru/1932577/2025-08-11/narezka-okrugov-i-bulleteni-babocki-kak-v-ssa-manipuliruut-vyborami](https://iz.ru/1932577/2025-08-11/narezka-okrugov-i-bulleteni-babocki-kak-v-ssa-manipuliruut-vyborami)\n"
     },
     "metadata": {},
     "output_type": "display_data"
    },
    {
     "data": {
      "text/plain": [
       "<IPython.core.display.Markdown object>"
      ],
      "text/markdown": "**[7] Пилот NASCAR Брюэр умер от сердечного приступа во время гонки в США**  \n🔗 [https://iz.ru/](https://iz.ru/)\n"
     },
     "metadata": {},
     "output_type": "display_data"
    },
    {
     "data": {
      "text/plain": [
       "<IPython.core.display.Markdown object>"
      ],
      "text/markdown": "**[8] Как в России развивают речные и морские магистрали**  \n🔗 [https://iz.ru/](https://iz.ru/)\n"
     },
     "metadata": {},
     "output_type": "display_data"
    },
    {
     "data": {
      "text/plain": [
       "<IPython.core.display.Markdown object>"
      ],
      "text/markdown": "**[9] Дональд Трамп заявил о сдаче когнитивного теста на отлично**  \n🔗 [https://iz.ru/1935030/2025-08-11/donald-tramp-zaiavil-o-sdache-kognitivnogo-testa-na-otlichno](https://iz.ru/1935030/2025-08-11/donald-tramp-zaiavil-o-sdache-kognitivnogo-testa-na-otlichno)\n"
     },
     "metadata": {},
     "output_type": "display_data"
    },
    {
     "data": {
      "text/plain": [
       "<IPython.core.display.Markdown object>"
      ],
      "text/markdown": "**[10] США и Европа готовятся к встрече Трампа с Путиным на Аляске. Что пишут СМИ**  \n🔗 [https://iz.ru/1934859/2025-08-11/ssha-i-evropa-gotoviatsia-k-vstreche-trampa-s-putinym-na-aliaske-chto-pishut-smi](https://iz.ru/1934859/2025-08-11/ssha-i-evropa-gotoviatsia-k-vstreche-trampa-s-putinym-na-aliaske-chto-pishut-smi)\n"
     },
     "metadata": {},
     "output_type": "display_data"
    },
    {
     "data": {
      "text/plain": [
       "<IPython.core.display.Markdown object>"
      ],
      "text/markdown": "**[11] Нарезка округов и «бюллетени-бабочки». Как в США манипулируют выборами**  \n🔗 [https://iz.ru/1932577/2025-08-11/narezka-okrugov-i-bulleteni-babocki-kak-v-ssa-manipuliruut-vyborami](https://iz.ru/1932577/2025-08-11/narezka-okrugov-i-bulleteni-babocki-kak-v-ssa-manipuliruut-vyborami)\n"
     },
     "metadata": {},
     "output_type": "display_data"
    },
    {
     "data": {
      "text/plain": [
       "<IPython.core.display.Markdown object>"
      ],
      "text/markdown": "**[12] Пилот NASCAR Брюэр умер от сердечного приступа во время гонки в США**  \n🔗 [https://iz.ru/](https://iz.ru/)\n"
     },
     "metadata": {},
     "output_type": "display_data"
    },
    {
     "data": {
      "text/plain": [
       "<IPython.core.display.Markdown object>"
      ],
      "text/markdown": "**[13] Как в России развивают речные и морские магистрали**  \n🔗 [https://iz.ru/](https://iz.ru/)\n"
     },
     "metadata": {},
     "output_type": "display_data"
    }
   ],
   "execution_count": 51
  },
  {
   "metadata": {
    "ExecuteTime": {
     "end_time": "2025-08-11T15:05:58.850791Z",
     "start_time": "2025-08-11T15:05:52.151524Z"
    }
   },
   "cell_type": "code",
   "source": [
    "import re\n",
    "import json\n",
    "from selenium import webdriver\n",
    "from selenium.webdriver.chrome.options import Options\n",
    "from bs4 import BeautifulSoup\n",
    "from datetime import datetime, timedelta\n",
    "from IPython.display import display, Markdown  # для кликабельных ссылок в Jupyter, если не используешь — заменить на print\n",
    "\n",
    "# === НАСТРОЙКИ ===\n",
    "KEYWORDS = ['трамп', 'trump', 'дональд', 'канад', 'германи', 'сша', 'австрали', 'япони', 'великобритани', 'китай', 'росси']\n",
    "DAYS_BACK = 2\n",
    "MAX_NEWS_IZ = 50\n",
    "\n",
    "# --- URLs ---\n",
    "RBC_URL = 'https://www.rbc.ru/economics/'\n",
    "IZ_URL = 'https://iz.ru/news'\n",
    "IZ_BASE_URL = 'https://iz.ru'\n",
    "\n",
    "def fetch_rbc_articles(driver, now):\n",
    "    driver.get(RBC_URL)\n",
    "    driver.implicitly_wait(5)  # лучше использовать явные ожидания, но для простоты\n",
    "    html = driver.page_source\n",
    "    soup = BeautifulSoup(html, 'html.parser')\n",
    "    items = soup.find_all('div', class_='item')\n",
    "    articles = []\n",
    "\n",
    "    for item in items:\n",
    "        title_tag = item.find('span', class_='item__title')\n",
    "        link_tag = item.find('a', class_='item__link')\n",
    "\n",
    "        if not title_tag or not link_tag:\n",
    "            continue\n",
    "\n",
    "        title = ''.join(title_tag.stripped_strings)\n",
    "        link = link_tag['href']\n",
    "\n",
    "        # Извлекаем дату из URL\n",
    "        match = re.search(r'/(\\d{2})/(\\d{2})/(\\d{4})/', link)\n",
    "        if not match:\n",
    "            continue\n",
    "        day, month, year = map(int, match.groups())\n",
    "        pub_date = datetime(year, month, day)\n",
    "\n",
    "        # Фильтр по дате\n",
    "        if (now - pub_date).days > DAYS_BACK:\n",
    "            continue\n",
    "\n",
    "        # Фильтр по ключевым словам\n",
    "        if not any(kw in title.lower() for kw in KEYWORDS):\n",
    "            continue\n",
    "\n",
    "        articles.append({\n",
    "            'title': title,\n",
    "            'link': link,\n",
    "            'date': pub_date,\n",
    "        })\n",
    "\n",
    "    return articles\n",
    "\n",
    "def extract_json_from_html(html):\n",
    "    start_pattern = r'window\\.recommendationBlockList\\s*=\\s*{'\n",
    "    start_match = re.search(start_pattern, html)\n",
    "    if not start_match:\n",
    "        return None\n",
    "\n",
    "    start_index = start_match.end() - 1\n",
    "    braces = 0\n",
    "    end_index = start_index\n",
    "    for i, ch in enumerate(html[start_index:], start=start_index):\n",
    "        if ch == '{':\n",
    "            braces += 1\n",
    "        elif ch == '}':\n",
    "            braces -= 1\n",
    "            if braces == 0:\n",
    "                end_index = i\n",
    "                break\n",
    "    json_text = html[start_index:end_index+1]\n",
    "    return json_text\n",
    "\n",
    "def parse_iz(json_data):\n",
    "    articles_dict = {}\n",
    "    for key in ['even', 'odd']:\n",
    "        for item in json_data.get(key, []):\n",
    "            article_id = item.get('id') or item.get('reference') or item.get('path')\n",
    "            path = item.get('path', '').strip()\n",
    "            if not path:\n",
    "                path = item.get('reference', '').strip()\n",
    "\n",
    "            # Проверка валидности ссылки\n",
    "            if not path or path in ['/', IZ_BASE_URL, IZ_BASE_URL + '/']:\n",
    "                print(f\"[WARN] Пропущена новость без валидной ссылки: Заголовок: \\\"{item.get('title', '')}\\\"\")\n",
    "                continue\n",
    "\n",
    "            if path.startswith('http://') or path.startswith('https://'):\n",
    "                full_link = path\n",
    "            else:\n",
    "                full_link = IZ_BASE_URL + path if path.startswith('/') else IZ_BASE_URL + '/' + path\n",
    "\n",
    "            unique_key = article_id if article_id else full_link\n",
    "\n",
    "            if unique_key in articles_dict:\n",
    "                continue\n",
    "\n",
    "            articles_dict[unique_key] = {\n",
    "                'title': item.get('title', ''),\n",
    "                'link': full_link,\n",
    "                'date': None,  # в данных iz.ru даты нет, можно потом пытаться парсить с сайта, но это сложнее\n",
    "            }\n",
    "\n",
    "    return list(articles_dict.values())\n",
    "\n",
    "def fetch_iz_articles(driver, now):\n",
    "    driver.get(IZ_URL)\n",
    "    driver.implicitly_wait(5)\n",
    "    html = driver.page_source\n",
    "\n",
    "    json_text = extract_json_from_html(html)\n",
    "    if not json_text:\n",
    "        print(\"❌ Не удалось найти данные новостей iz.ru в HTML\")\n",
    "        return []\n",
    "\n",
    "    data = json.loads(json_text)\n",
    "    articles = parse_iz(data)\n",
    "\n",
    "    filtered = []\n",
    "    for a in articles:\n",
    "        if not any(kw in a['title'].lower() for kw in KEYWORDS):\n",
    "            continue\n",
    "        filtered.append(a)\n",
    "        if len(filtered) >= MAX_NEWS_IZ:\n",
    "            break\n",
    "\n",
    "    return filtered\n",
    "\n",
    "def print_articles(articles):\n",
    "    if not articles:\n",
    "        print(\"❌ Нет подходящих новостей.\")\n",
    "        return\n",
    "    print(f\"✅ Найдено {len(articles)} новостей по фильтру:\\n\")\n",
    "    for i, a in enumerate(articles, 1):\n",
    "        # Кликабельные ссылки, если запускаешь в Jupyter/IPython\n",
    "        try:\n",
    "            display(Markdown(f\"**[{i}] {a['title']}**  \\n🔗 [{a['link']}]({a['link']})\\n\"))\n",
    "        except NameError:\n",
    "            # Если display или Markdown не доступны — простой вывод\n",
    "            print(f\"[{i}] {a['title']}\\n🔗 {a['link']}\\n\")\n",
    "\n",
    "def main():\n",
    "    now = datetime.now()\n",
    "\n",
    "    chrome_options = Options()\n",
    "    chrome_options.add_argument(\"--headless\")\n",
    "    chrome_options.add_argument(\"--no-sandbox\")\n",
    "    chrome_options.add_argument(\"--disable-dev-shm-usage\")\n",
    "\n",
    "    driver = webdriver.Chrome(options=chrome_options)\n",
    "\n",
    "    # Парсим RBC\n",
    "    rbc_articles = fetch_rbc_articles(driver, now)\n",
    "\n",
    "    # Парсим Iz.ru\n",
    "    iz_articles = fetch_iz_articles(driver, now)\n",
    "\n",
    "    driver.quit()\n",
    "\n",
    "    # Объединяем результаты\n",
    "    all_articles = rbc_articles + iz_articles\n",
    "\n",
    "    # Сортируем по дате — у iz.ru даты нет, поэтому они идут после RBC\n",
    "    all_articles.sort(key=lambda x: x['date'] if x['date'] else datetime.min, reverse=True)\n",
    "\n",
    "    print_articles(all_articles)\n",
    "\n",
    "if __name__ == '__main__':\n",
    "    main()\n"
   ],
   "id": "37a34eb9f6a08b45",
   "outputs": [
    {
     "name": "stdout",
     "output_type": "stream",
     "text": [
      "✅ Найдено 8 новостей по фильтру:\n",
      "\n"
     ]
    },
    {
     "data": {
      "text/plain": [
       "<IPython.core.display.Markdown object>"
      ],
      "text/markdown": "**[1] Поставки лекарств из США в Россию за год выросли почти в 7 раз**  \n🔗 [https://www.rbc.ru/economics/10/08/2025/6898bc319a7947e41c8a4b05](https://www.rbc.ru/economics/10/08/2025/6898bc319a7947e41c8a4b05)\n"
     },
     "metadata": {},
     "output_type": "display_data"
    },
    {
     "data": {
      "text/plain": [
       "<IPython.core.display.Markdown object>"
      ],
      "text/markdown": "**[2] FT узнала требование Китая в торговых переговорах с США**  \n🔗 [https://www.rbc.ru/economics/10/08/2025/68982c5e9a79477e692f4854](https://www.rbc.ru/economics/10/08/2025/68982c5e9a79477e692f4854)\n"
     },
     "metadata": {},
     "output_type": "display_data"
    },
    {
     "data": {
      "text/plain": [
       "<IPython.core.display.Markdown object>"
      ],
      "text/markdown": "**[3] Бразилия испугалась стать новой мишенью Трампа из-за российского топлива**  \n🔗 [https://www.rbc.ru/economics/09/08/2025/689743b69a794797f8463b44](https://www.rbc.ru/economics/09/08/2025/689743b69a794797f8463b44)\n"
     },
     "metadata": {},
     "output_type": "display_data"
    },
    {
     "data": {
      "text/plain": [
       "<IPython.core.display.Markdown object>"
      ],
      "text/markdown": "**[4] Дональд Трамп заявил о сдаче когнитивного теста на отлично**  \n🔗 [https://iz.ru/1935030/2025-08-11/donald-tramp-zaiavil-o-sdache-kognitivnogo-testa-na-otlichno](https://iz.ru/1935030/2025-08-11/donald-tramp-zaiavil-o-sdache-kognitivnogo-testa-na-otlichno)\n"
     },
     "metadata": {},
     "output_type": "display_data"
    },
    {
     "data": {
      "text/plain": [
       "<IPython.core.display.Markdown object>"
      ],
      "text/markdown": "**[5] США и Европа готовятся к встрече Трампа с Путиным на Аляске. Что пишут СМИ**  \n🔗 [https://iz.ru/1934859/2025-08-11/ssha-i-evropa-gotoviatsia-k-vstreche-trampa-s-putinym-na-aliaske-chto-pishut-smi](https://iz.ru/1934859/2025-08-11/ssha-i-evropa-gotoviatsia-k-vstreche-trampa-s-putinym-na-aliaske-chto-pishut-smi)\n"
     },
     "metadata": {},
     "output_type": "display_data"
    },
    {
     "data": {
      "text/plain": [
       "<IPython.core.display.Markdown object>"
      ],
      "text/markdown": "**[6] Нарезка округов и «бюллетени-бабочки». Как в США манипулируют выборами**  \n🔗 [https://iz.ru/1932577/2025-08-11/narezka-okrugov-i-bulleteni-babocki-kak-v-ssa-manipuliruut-vyborami](https://iz.ru/1932577/2025-08-11/narezka-okrugov-i-bulleteni-babocki-kak-v-ssa-manipuliruut-vyborami)\n"
     },
     "metadata": {},
     "output_type": "display_data"
    },
    {
     "data": {
      "text/plain": [
       "<IPython.core.display.Markdown object>"
      ],
      "text/markdown": "**[7] Овечкин сомневается, что снова сыграет за сборную России после отстранения**  \n🔗 [https://www.sport-express.net/hockey/nhl/reviews/aleksandr-ovechkin-o-sbornoy-rossii-i-olimpiade-momentah-karery-i-seme-sovety-yunym-hokkeistam-i-sebe-2349633/](https://www.sport-express.net/hockey/nhl/reviews/aleksandr-ovechkin-o-sbornoy-rossii-i-olimpiade-momentah-karery-i-seme-sovety-yunym-hokkeistam-i-sebe-2349633/)\n"
     },
     "metadata": {},
     "output_type": "display_data"
    },
    {
     "data": {
      "text/plain": [
       "<IPython.core.display.Markdown object>"
      ],
      "text/markdown": "**[8] Как в России развивают речные и морские магистрали**  \n🔗 [https://regnum.ru/news/3974432](https://regnum.ru/news/3974432)\n"
     },
     "metadata": {},
     "output_type": "display_data"
    }
   ],
   "execution_count": 54
  },
  {
   "metadata": {
    "ExecuteTime": {
     "end_time": "2025-08-11T15:21:56.549995Z",
     "start_time": "2025-08-11T15:20:19.172740Z"
    }
   },
   "cell_type": "code",
   "source": [
    "from selenium import webdriver\n",
    "from selenium.webdriver.chrome.options import Options\n",
    "from selenium.webdriver.common.by import By\n",
    "from selenium.webdriver.support.ui import WebDriverWait\n",
    "from selenium.webdriver.support import expected_conditions as EC\n",
    "from bs4 import BeautifulSoup\n",
    "from datetime import datetime, timedelta\n",
    "import time\n",
    "import re\n",
    "\n",
    "KEYWORDS = ['экономика', 'рынок', 'инфляция', 'курс', 'банк', 'цена', 'снижение', 'рост', 'трамп', 'trump', 'дональд']\n",
    "DAYS_BACK = 2\n",
    "URL = 'https://tass.ru/ekonomika'\n",
    "TARGET_NEWS_COUNT = 100\n",
    "SCROLL_PAUSE_SEC = 2  # пауза после скролла для загрузки\n",
    "\n",
    "def scroll_to_load(driver, target_count):\n",
    "    last_height = driver.execute_script(\"return document.body.scrollHeight\")\n",
    "    news_count = 0\n",
    "    tries = 0\n",
    "    max_tries = 20  # чтобы не зациклиться\n",
    "\n",
    "    while news_count < target_count and tries < max_tries:\n",
    "        driver.execute_script(\"window.scrollTo(0, document.body.scrollHeight);\")\n",
    "        time.sleep(SCROLL_PAUSE_SEC)\n",
    "\n",
    "        # Проверяем сколько карточек сейчас на странице\n",
    "        soup = BeautifulSoup(driver.page_source, 'html.parser')\n",
    "        articles = soup.find_all('article', class_=re.compile(r'list-item|card-mini'))\n",
    "        news_count = len(articles)\n",
    "        if news_count >= target_count:\n",
    "            break\n",
    "\n",
    "        new_height = driver.execute_script(\"return document.body.scrollHeight\")\n",
    "        if new_height == last_height:\n",
    "            tries += 1\n",
    "        else:\n",
    "            tries = 0\n",
    "            last_height = new_height\n",
    "\n",
    "def parse_tass_news():\n",
    "    chrome_options = Options()\n",
    "    chrome_options.add_argument(\"--headless\")\n",
    "    chrome_options.add_argument(\"--no-sandbox\")\n",
    "    chrome_options.add_argument(\"--disable-dev-shm-usage\")\n",
    "\n",
    "    driver = webdriver.Chrome(options=chrome_options)\n",
    "    driver.set_page_load_timeout(180)\n",
    "\n",
    "    print(\"[INFO] Загружаем страницу TASS...\")\n",
    "    try:\n",
    "        driver.get(URL)\n",
    "        WebDriverWait(driver, 20).until(\n",
    "            EC.presence_of_element_located((By.TAG_NAME, 'article'))\n",
    "        )\n",
    "        scroll_to_load(driver, TARGET_NEWS_COUNT)\n",
    "    except Exception as e:\n",
    "        print(f\"[ERROR] Ошибка при загрузке страницы: {e}\")\n",
    "        driver.quit()\n",
    "        return\n",
    "\n",
    "    html = driver.page_source\n",
    "    driver.quit()\n",
    "\n",
    "    soup = BeautifulSoup(html, 'html.parser')\n",
    "    articles = soup.find_all('article', class_=re.compile(r'list-item|card-mini'))\n",
    "    print(f\"[INFO] Всего найдено новостей после скролла: {len(articles)}\")\n",
    "\n",
    "    now = datetime.now()\n",
    "    cutoff_date = now - timedelta(days=DAYS_BACK)\n",
    "\n",
    "    filtered_articles = []\n",
    "\n",
    "    for article in articles:\n",
    "        title_tag = article.find('a', class_='list-item__title') or article.find('a', class_='card-mini__title')\n",
    "        if not title_tag:\n",
    "            continue\n",
    "        title = title_tag.get_text(strip=True)\n",
    "        link = title_tag['href']\n",
    "\n",
    "        time_tag = article.find('time')\n",
    "        if time_tag and time_tag.has_attr('datetime'):\n",
    "            pub_date_str = time_tag['datetime']\n",
    "            try:\n",
    "                pub_date = datetime.fromisoformat(pub_date_str.replace('Z', '+00:00')).replace(tzinfo=None)\n",
    "            except Exception:\n",
    "                continue\n",
    "        else:\n",
    "            continue\n",
    "\n",
    "        if pub_date < cutoff_date:\n",
    "            continue\n",
    "\n",
    "        title_lower = title.lower()\n",
    "        if not any(kw in title_lower for kw in KEYWORDS):\n",
    "            continue\n",
    "\n",
    "        if link.startswith('/'):\n",
    "            link = 'https://tass.ru' + link\n",
    "\n",
    "        filtered_articles.append({\n",
    "            'title': title,\n",
    "            'link': link,\n",
    "            'date': pub_date\n",
    "        })\n",
    "\n",
    "        if len(filtered_articles) >= TARGET_NEWS_COUNT:\n",
    "            break\n",
    "\n",
    "    if not filtered_articles:\n",
    "        print(\"❌ Нет подходящих новостей.\")\n",
    "        return\n",
    "\n",
    "    print(f\"\\n✅ Найдено {len(filtered_articles)} новостей по фильтру за последние {DAYS_BACK} дня:\\n\")\n",
    "    for i, a in enumerate(filtered_articles, 1):\n",
    "        print(f\"[{i}] [{a['date'].strftime('%Y-%m-%d %H:%M')}] {a['title']}\\n     🔗 {a['link']}\\n\")\n",
    "\n",
    "if __name__ == \"__main__\":\n",
    "    parse_tass_news()\n"
   ],
   "id": "c60ee2289567095f",
   "outputs": [
    {
     "name": "stdout",
     "output_type": "stream",
     "text": [
      "[INFO] Загружаем страницу TASS...\n",
      "[ERROR] Ошибка при загрузке страницы: Message: \n",
      "Stacktrace:\n",
      "0   chromedriver                        0x00000001005c4b38 cxxbridge1$str$ptr + 2722088\n",
      "1   chromedriver                        0x00000001005bcaa8 cxxbridge1$str$ptr + 2689176\n",
      "2   chromedriver                        0x000000010010e33c cxxbridge1$string$len + 90648\n",
      "3   chromedriver                        0x0000000100155494 cxxbridge1$string$len + 381808\n",
      "4   chromedriver                        0x0000000100196880 cxxbridge1$string$len + 649052\n",
      "5   chromedriver                        0x0000000100149784 cxxbridge1$string$len + 333408\n",
      "6   chromedriver                        0x0000000100587eb4 cxxbridge1$str$ptr + 2473124\n",
      "7   chromedriver                        0x000000010058b120 cxxbridge1$str$ptr + 2486032\n",
      "8   chromedriver                        0x00000001005696b4 cxxbridge1$str$ptr + 2348196\n",
      "9   chromedriver                        0x000000010058b9dc cxxbridge1$str$ptr + 2488268\n",
      "10  chromedriver                        0x000000010055a730 cxxbridge1$str$ptr + 2286880\n",
      "11  chromedriver                        0x00000001005ab5f8 cxxbridge1$str$ptr + 2618344\n",
      "12  chromedriver                        0x00000001005ab784 cxxbridge1$str$ptr + 2618740\n",
      "13  chromedriver                        0x00000001005bc6e4 cxxbridge1$str$ptr + 2688212\n",
      "14  libsystem_pthread.dylib             0x000000018ee7dc0c _pthread_start + 136\n",
      "15  libsystem_pthread.dylib             0x000000018ee78b80 thread_start + 8\n",
      "\n"
     ]
    }
   ],
   "execution_count": 57
  },
  {
   "metadata": {},
   "cell_type": "code",
   "outputs": [],
   "execution_count": null,
   "source": "",
   "id": "b1eda527f453a5c7"
  }
 ],
 "metadata": {
  "kernelspec": {
   "display_name": "Python 3",
   "language": "python",
   "name": "python3"
  },
  "language_info": {
   "codemirror_mode": {
    "name": "ipython",
    "version": 2
   },
   "file_extension": ".py",
   "mimetype": "text/x-python",
   "name": "python",
   "nbconvert_exporter": "python",
   "pygments_lexer": "ipython2",
   "version": "2.7.6"
  }
 },
 "nbformat": 4,
 "nbformat_minor": 5
}
